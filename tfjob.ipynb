{
 "cells": [
  {
   "cell_type": "code",
   "execution_count": 1,
   "id": "05e2f4e3-4a42-405c-9f4a-2af68d61d6be",
   "metadata": {
    "tags": []
   },
   "outputs": [],
   "source": [
    "from kubernetes.client import V1PodTemplateSpec\n",
    "from kubernetes.client import V1ObjectMeta\n",
    "from kubernetes.client import V1PodSpec\n",
    "from kubernetes.client import V1Container\n",
    "\n",
    "from kubeflow.training import constants\n",
    "from kubeflow.training.utils import utils\n",
    "from kubeflow.training import V1ReplicaSpec\n",
    "from kubeflow.training import KubeflowOrgV1TFJob\n",
    "from kubeflow.training import KubeflowOrgV1TFJobSpec\n",
    "from kubeflow.training import V1RunPolicy\n",
    "from kubeflow.training import TFJobClient"
   ]
  },
  {
   "cell_type": "code",
   "execution_count": 2,
   "id": "f1f2a7e5-6386-49b5-aaf1-a2bbb65d6ea9",
   "metadata": {
    "tags": []
   },
   "outputs": [],
   "source": [
    "namespace = utils.get_default_target_namespace()"
   ]
  },
  {
   "cell_type": "code",
   "execution_count": 3,
   "id": "b14f570d-327d-4f2d-98b7-52bf30db62d8",
   "metadata": {
    "tags": []
   },
   "outputs": [],
   "source": [
    "job_name = 'mnist-test-01'\n",
    "\n",
    "tfjob_client = TFJobClient(config_file='config')"
   ]
  },
  {
   "cell_type": "code",
   "execution_count": 4,
   "id": "2ade5de8-e59c-43e0-aa53-62eb3335ee06",
   "metadata": {
    "tags": []
   },
   "outputs": [],
   "source": [
    "container = V1Container(\n",
    "    name=\"tfjob\",\n",
    "    image=\"duxucloud/gcr.io_kubeflow-ci_tf-mnist-with-summaries:1.0\",\n",
    "    command=[\n",
    "        \"python\",\n",
    "        \"/var/tf_mnist/mnist_with_summaries.py\",\n",
    "        \"--log_dir=/train/logs\", \"--learning_rate=0.01\",\n",
    "        \"--batch_size=150\"\n",
    "        ]\n",
    ")\n",
    "\n",
    "worker = V1ReplicaSpec(\n",
    "    replicas=2,\n",
    "    restart_policy=\"Never\",\n",
    "    template=V1PodTemplateSpec(\n",
    "        spec=V1PodSpec(\n",
    "            containers=[container]\n",
    "        )\n",
    "    )\n",
    ")\n",
    "\n",
    "chief = V1ReplicaSpec(\n",
    "    replicas=1,\n",
    "    restart_policy=\"Never\",\n",
    "    template=V1PodTemplateSpec(\n",
    "        spec=V1PodSpec(\n",
    "            containers=[container]\n",
    "        )\n",
    "    )\n",
    ")\n",
    "\n",
    "ps = V1ReplicaSpec(\n",
    "    replicas=1,\n",
    "    restart_policy=\"Never\",\n",
    "    template=V1PodTemplateSpec(\n",
    "        spec=V1PodSpec(\n",
    "            containers=[container]\n",
    "        )\n",
    "    )\n",
    ")\n",
    "\n",
    "tfjob = KubeflowOrgV1TFJob(\n",
    "    api_version=\"kubeflow.org/v1\",\n",
    "    kind=\"TFJob\",\n",
    "    metadata=V1ObjectMeta(name=job_name,namespace=namespace),\n",
    "    spec=KubeflowOrgV1TFJobSpec(\n",
    "        run_policy=V1RunPolicy(clean_pod_policy=\"None\"),\n",
    "        tf_replica_specs={\"Worker\": worker,\n",
    "                          \"Chief\": chief,\n",
    "                          \"PS\": ps}\n",
    "    )\n",
    ")"
   ]
  },
  {
   "cell_type": "code",
   "execution_count": 5,
   "id": "9443081c-848c-4458-93ad-db1fbd0e9d3a",
   "metadata": {
    "tags": []
   },
   "outputs": [
    {
     "data": {
      "text/plain": [
       "{'apiVersion': 'kubeflow.org/v1',\n",
       " 'kind': 'TFJob',\n",
       " 'metadata': {'creationTimestamp': '2023-04-07T08:04:06Z',\n",
       "  'generation': 1,\n",
       "  'managedFields': [{'apiVersion': 'kubeflow.org/v1',\n",
       "    'fieldsType': 'FieldsV1',\n",
       "    'fieldsV1': {'f:spec': {'.': {},\n",
       "      'f:runPolicy': {'.': {}, 'f:cleanPodPolicy': {}},\n",
       "      'f:tfReplicaSpecs': {'.': {},\n",
       "       'f:Chief': {'.': {},\n",
       "        'f:replicas': {},\n",
       "        'f:restartPolicy': {},\n",
       "        'f:template': {'.': {}, 'f:spec': {'.': {}, 'f:containers': {}}}},\n",
       "       'f:PS': {'.': {},\n",
       "        'f:replicas': {},\n",
       "        'f:restartPolicy': {},\n",
       "        'f:template': {'.': {}, 'f:spec': {'.': {}, 'f:containers': {}}}},\n",
       "       'f:Worker': {'.': {},\n",
       "        'f:replicas': {},\n",
       "        'f:restartPolicy': {},\n",
       "        'f:template': {'.': {}, 'f:spec': {'.': {}, 'f:containers': {}}}}}}},\n",
       "    'manager': 'OpenAPI-Generator',\n",
       "    'operation': 'Update',\n",
       "    'time': '2023-04-07T08:04:06Z'}],\n",
       "  'name': 'mnist-test-01',\n",
       "  'namespace': 'default',\n",
       "  'resourceVersion': '1873520',\n",
       "  'uid': '207bd0ef-1a4f-4e55-b450-5c52384339da'},\n",
       " 'spec': {'runPolicy': {'cleanPodPolicy': 'None'},\n",
       "  'tfReplicaSpecs': {'Chief': {'replicas': 1,\n",
       "    'restartPolicy': 'Never',\n",
       "    'template': {'spec': {'containers': [{'command': ['python',\n",
       "         '/var/tf_mnist/mnist_with_summaries.py',\n",
       "         '--log_dir=/train/logs',\n",
       "         '--learning_rate=0.01',\n",
       "         '--batch_size=150'],\n",
       "        'image': 'duxucloud/gcr.io_kubeflow-ci_tf-mnist-with-summaries:1.0',\n",
       "        'name': 'tfjob'}]}}},\n",
       "   'PS': {'replicas': 1,\n",
       "    'restartPolicy': 'Never',\n",
       "    'template': {'spec': {'containers': [{'command': ['python',\n",
       "         '/var/tf_mnist/mnist_with_summaries.py',\n",
       "         '--log_dir=/train/logs',\n",
       "         '--learning_rate=0.01',\n",
       "         '--batch_size=150'],\n",
       "        'image': 'duxucloud/gcr.io_kubeflow-ci_tf-mnist-with-summaries:1.0',\n",
       "        'name': 'tfjob'}]}}},\n",
       "   'Worker': {'replicas': 2,\n",
       "    'restartPolicy': 'Never',\n",
       "    'template': {'spec': {'containers': [{'command': ['python',\n",
       "         '/var/tf_mnist/mnist_with_summaries.py',\n",
       "         '--log_dir=/train/logs',\n",
       "         '--learning_rate=0.01',\n",
       "         '--batch_size=150'],\n",
       "        'image': 'duxucloud/gcr.io_kubeflow-ci_tf-mnist-with-summaries:1.0',\n",
       "        'name': 'tfjob'}]}}}}}}"
      ]
     },
     "execution_count": 5,
     "metadata": {},
     "output_type": "execute_result"
    }
   ],
   "source": [
    "tfjob_client = TFJobClient(config_file='config')\n",
    "tfjob_client.create(tfjob, namespace=namespace)"
   ]
  },
  {
   "cell_type": "code",
   "execution_count": 6,
   "id": "a0efd607-e57e-4bc1-9eb9-0320b601fac4",
   "metadata": {
    "tags": []
   },
   "outputs": [
    {
     "data": {
      "text/plain": [
       "'Succeeded'"
      ]
     },
     "execution_count": 6,
     "metadata": {},
     "output_type": "execute_result"
    }
   ],
   "source": [
    "tfjob_client.get_job_status('mnist', namespace=namespace)\n"
   ]
  },
  {
   "cell_type": "code",
   "execution_count": 7,
   "id": "47345da3-ffc6-4bee-bec6-a1e6a1457942",
   "metadata": {
    "tags": []
   },
   "outputs": [
    {
     "name": "stderr",
     "output_type": "stream",
     "text": [
      "The logs of Pod mnist-chief-0:\n",
      " WARNING:tensorflow:From /var/tf_mnist/mnist_with_summaries.py:39: read_data_sets (from tensorflow.contrib.learn.python.learn.datasets.mnist) is deprecated and will be removed in a future version.\n",
      "Instructions for updating:\n",
      "Please use alternatives such as official/mnist/dataset.py from tensorflow/models.\n",
      "WARNING:tensorflow:From /usr/local/lib/python2.7/dist-packages/tensorflow/contrib/learn/python/learn/datasets/mnist.py:260: maybe_download (from tensorflow.contrib.learn.python.learn.datasets.base) is deprecated and will be removed in a future version.\n",
      "Instructions for updating:\n",
      "Please write your own downloading logic.\n",
      "WARNING:tensorflow:From /usr/local/lib/python2.7/dist-packages/tensorflow/contrib/learn/python/learn/datasets/base.py:252: wrapped_fn (from tensorflow.contrib.learn.python.learn.datasets.base) is deprecated and will be removed in a future version.\n",
      "Instructions for updating:\n",
      "Please use urllib or similar directly.\n",
      "WARNING:tensorflow:From /usr/local/lib/python2.7/dist-packages/tensorflow/contrib/learn/python/learn/datasets/mnist.py:262: extract_images (from tensorflow.contrib.learn.python.learn.datasets.mnist) is deprecated and will be removed in a future version.\n",
      "Instructions for updating:\n",
      "Please use tf.data to implement this functionality.\n",
      "WARNING:tensorflow:From /usr/local/lib/python2.7/dist-packages/tensorflow/contrib/learn/python/learn/datasets/mnist.py:267: extract_labels (from tensorflow.contrib.learn.python.learn.datasets.mnist) is deprecated and will be removed in a future version.\n",
      "Instructions for updating:\n",
      "Please use tf.data to implement this functionality.\n",
      "WARNING:tensorflow:From /usr/local/lib/python2.7/dist-packages/tensorflow/contrib/learn/python/learn/datasets/mnist.py:290: __init__ (from tensorflow.contrib.learn.python.learn.datasets.mnist) is deprecated and will be removed in a future version.\n",
      "Instructions for updating:\n",
      "Please use alternatives such as official/mnist/dataset.py from tensorflow/models.\n",
      "2023-03-30 07:57:04.564094: I tensorflow/core/platform/cpu_feature_guard.cc:141] Your CPU supports instructions that this TensorFlow binary was not compiled to use: AVX2 AVX512F FMA\n",
      "Successfully downloaded train-images-idx3-ubyte.gz 9912422 bytes.\n",
      "Extracting /tmp/tensorflow/mnist/input_data/train-images-idx3-ubyte.gz\n",
      "Successfully downloaded train-labels-idx1-ubyte.gz 28881 bytes.\n",
      "Extracting /tmp/tensorflow/mnist/input_data/train-labels-idx1-ubyte.gz\n",
      "Successfully downloaded t10k-images-idx3-ubyte.gz 1648877 bytes.\n",
      "Extracting /tmp/tensorflow/mnist/input_data/t10k-images-idx3-ubyte.gz\n",
      "Successfully downloaded t10k-labels-idx1-ubyte.gz 4542 bytes.\n",
      "Extracting /tmp/tensorflow/mnist/input_data/t10k-labels-idx1-ubyte.gz\n",
      "Accuracy at step 0: 0.0804\n",
      "Accuracy at step 10: 0.7704\n",
      "Accuracy at step 20: 0.8521\n",
      "Accuracy at step 30: 0.8998\n",
      "Accuracy at step 40: 0.913\n",
      "Accuracy at step 50: 0.9219\n",
      "Accuracy at step 60: 0.9274\n",
      "Accuracy at step 70: 0.933\n",
      "Accuracy at step 80: 0.9402\n",
      "Accuracy at step 90: 0.9413\n",
      "Adding run metadata for 99\n",
      "Accuracy at step 100: 0.9421\n",
      "Accuracy at step 110: 0.9378\n",
      "Accuracy at step 120: 0.9466\n",
      "Accuracy at step 130: 0.9462\n",
      "Accuracy at step 140: 0.9531\n",
      "Accuracy at step 150: 0.9515\n",
      "Accuracy at step 160: 0.9492\n",
      "Accuracy at step 170: 0.9474\n",
      "Accuracy at step 180: 0.9524\n",
      "Accuracy at step 190: 0.9543\n",
      "Adding run metadata for 199\n",
      "Accuracy at step 200: 0.9498\n",
      "Accuracy at step 210: 0.9551\n",
      "Accuracy at step 220: 0.9542\n",
      "Accuracy at step 230: 0.9588\n",
      "Accuracy at step 240: 0.9521\n",
      "Accuracy at step 250: 0.9516\n",
      "Accuracy at step 260: 0.9487\n",
      "Accuracy at step 270: 0.9606\n",
      "Accuracy at step 280: 0.9501\n",
      "Accuracy at step 290: 0.9532\n",
      "Adding run metadata for 299\n",
      "Accuracy at step 300: 0.958\n",
      "Accuracy at step 310: 0.9581\n",
      "Accuracy at step 320: 0.9576\n",
      "Accuracy at step 330: 0.9501\n",
      "Accuracy at step 340: 0.9639\n",
      "Accuracy at step 350: 0.9595\n",
      "Accuracy at step 360: 0.9606\n",
      "Accuracy at step 370: 0.9587\n",
      "Accuracy at step 380: 0.9632\n",
      "Accuracy at step 390: 0.9596\n",
      "Adding run metadata for 399\n",
      "Accuracy at step 400: 0.9634\n",
      "Accuracy at step 410: 0.9608\n",
      "Accuracy at step 420: 0.9576\n",
      "Accuracy at step 430: 0.9607\n",
      "Accuracy at step 440: 0.9608\n",
      "Accuracy at step 450: 0.9591\n",
      "Accuracy at step 460: 0.9654\n",
      "Accuracy at step 470: 0.9632\n",
      "Accuracy at step 480: 0.9646\n",
      "Accuracy at step 490: 0.9645\n",
      "Adding run metadata for 499\n",
      "Accuracy at step 500: 0.9647\n",
      "Accuracy at step 510: 0.9634\n",
      "Accuracy at step 520: 0.9641\n",
      "Accuracy at step 530: 0.9648\n",
      "Accuracy at step 540: 0.9647\n",
      "Accuracy at step 550: 0.9648\n",
      "Accuracy at step 560: 0.9645\n",
      "Accuracy at step 570: 0.9641\n",
      "Accuracy at step 580: 0.9637\n",
      "Accuracy at step 590: 0.9669\n",
      "Adding run metadata for 599\n",
      "Accuracy at step 600: 0.9662\n",
      "Accuracy at step 610: 0.9681\n",
      "Accuracy at step 620: 0.9638\n",
      "Accuracy at step 630: 0.9669\n",
      "Accuracy at step 640: 0.9618\n",
      "Accuracy at step 650: 0.9637\n",
      "Accuracy at step 660: 0.9599\n",
      "Accuracy at step 670: 0.9625\n",
      "Accuracy at step 680: 0.9626\n",
      "Accuracy at step 690: 0.9687\n",
      "Adding run metadata for 699\n",
      "Accuracy at step 700: 0.9657\n",
      "Accuracy at step 710: 0.9688\n",
      "Accuracy at step 720: 0.9712\n",
      "Accuracy at step 730: 0.9696\n",
      "Accuracy at step 740: 0.9668\n",
      "Accuracy at step 750: 0.965\n",
      "Accuracy at step 760: 0.9654\n",
      "Accuracy at step 770: 0.9619\n",
      "Accuracy at step 780: 0.965\n",
      "Accuracy at step 790: 0.9656\n",
      "Adding run metadata for 799\n",
      "Accuracy at step 800: 0.9661\n",
      "Accuracy at step 810: 0.9623\n",
      "Accuracy at step 820: 0.9621\n",
      "Accuracy at step 830: 0.9698\n",
      "Accuracy at step 840: 0.966\n",
      "Accuracy at step 850: 0.9674\n",
      "Accuracy at step 860: 0.9714\n",
      "Accuracy at step 870: 0.9709\n",
      "Accuracy at step 880: 0.9722\n",
      "Accuracy at step 890: 0.9719\n",
      "Adding run metadata for 899\n",
      "Accuracy at step 900: 0.968\n",
      "Accuracy at step 910: 0.9693\n",
      "Accuracy at step 920: 0.9697\n",
      "Accuracy at step 930: 0.9722\n",
      "Accuracy at step 940: 0.972\n",
      "Accuracy at step 950: 0.9695\n",
      "Accuracy at step 960: 0.972\n",
      "Accuracy at step 970: 0.9689\n",
      "Accuracy at step 980: 0.962\n",
      "Accuracy at step 990: 0.9667\n",
      "Adding run metadata for 999\n",
      "\n"
     ]
    }
   ],
   "source": [
    "tfjob_client.get_logs('mnist', namespace=namespace)\n"
   ]
  },
  {
   "cell_type": "code",
   "execution_count": 8,
   "id": "f8e379dc-6484-404f-b7a2-d4fd928a542f",
   "metadata": {},
   "outputs": [
    {
     "data": {
      "text/plain": [
       "{'kind': 'Status',\n",
       " 'apiVersion': 'v1',\n",
       " 'metadata': {},\n",
       " 'status': 'Success',\n",
       " 'details': {'name': 'mnist-test-01',\n",
       "  'group': 'kubeflow.org',\n",
       "  'kind': 'tfjobs',\n",
       "  'uid': '207bd0ef-1a4f-4e55-b450-5c52384339da'}}"
      ]
     },
     "execution_count": 8,
     "metadata": {},
     "output_type": "execute_result"
    }
   ],
   "source": [
    "tfjob_client.delete(job_name, namespace=namespace)"
   ]
  },
  {
   "cell_type": "code",
   "execution_count": null,
   "id": "8969e2d8-7dc6-465f-995e-a9d837b96af6",
   "metadata": {},
   "outputs": [],
   "source": []
  }
 ],
 "metadata": {
  "kernelspec": {
   "display_name": "Python 3 (ipykernel)",
   "language": "python",
   "name": "python3"
  },
  "language_info": {
   "codemirror_mode": {
    "name": "ipython",
    "version": 3
   },
   "file_extension": ".py",
   "mimetype": "text/x-python",
   "name": "python",
   "nbconvert_exporter": "python",
   "pygments_lexer": "ipython3",
   "version": "3.10.10"
  }
 },
 "nbformat": 4,
 "nbformat_minor": 5
}
